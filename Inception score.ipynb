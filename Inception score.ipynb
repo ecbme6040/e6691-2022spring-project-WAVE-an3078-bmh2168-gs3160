{
 "cells": [
  {
   "cell_type": "code",
   "execution_count": 6,
   "id": "f5631e39",
   "metadata": {},
   "outputs": [],
   "source": [
    "import torch\n",
    "import torch.nn as nn\n",
    "from utils.utils import *\n",
    "import numpy as np\n",
    "import torchvision\n",
    "from torchvision import datasets, models, transforms\n",
    "from torch.utils.data import DataLoader\n",
    "import matplotlib.pyplot as plt\n",
    "import time\n",
    "import os\n",
    "import copy\n",
    "from utils.utils import *\n",
    "plt.ion()   # interactive mode"
   ]
  },
  {
   "cell_type": "code",
   "execution_count": 2,
   "id": "c7a9862d",
   "metadata": {},
   "outputs": [],
   "source": [
    "device = torch.device(\"cuda:0\" if torch.cuda.is_available() else \"cpu\")"
   ]
  },
  {
   "cell_type": "code",
   "execution_count": 55,
   "id": "61a2364a",
   "metadata": {},
   "outputs": [],
   "source": [
    "import torch\n",
    "from torch import nn\n",
    "from torch.autograd import Variable\n",
    "from torch.nn import functional as F\n",
    "import torch.utils.data\n",
    "\n",
    "from torchvision.models.inception import inception_v3\n",
    "\n",
    "import numpy as np\n",
    "from scipy.stats import entropy\n",
    "\n",
    "def inception_score(gen,N, wavegan,cuda=True, batch_size=32):\n",
    "\n",
    "    N=(N//32)*32\n",
    "    \n",
    "\n",
    "    model_ft = models.inception_v3(pretrained=True)\n",
    "    model_ft.aux_logits=False\n",
    "    num_ftrs = model_ft.fc.in_features\n",
    "\n",
    "    model_ft.fc = nn.Linear(num_ftrs, 10)\n",
    "\n",
    "    model_ft = model_ft.to(device)\n",
    "\n",
    "    model_ft.load_state_dict(torch.load('./data/INCEPTIONV3.pt',map_location=device))\n",
    "    model_ft.eval()\n",
    "\n",
    "    data_transforms = torchvision.transforms.Compose([\n",
    "        torchvision.transforms.ToPILImage(),\n",
    "        torchvision.transforms.Resize(299),\n",
    "        torchvision.transforms.ToTensor(),\n",
    "        torchvision.transforms.Normalize([0.485, 0.456, 0.406], [0.229, 0.224, 0.225])\n",
    "    ])\n",
    "\n",
    "    \n",
    "    def get_pred(x):\n",
    "        if wavegan:\n",
    "            imgs=[]\n",
    "            for sample in x:\n",
    "                #sample=torch.squeeze(sample)\n",
    "                #print(sample.shape)\n",
    "                imgs.append(data_transforms(transform_spectrogram(sample).detach().repeat(3, 1, 1)))\n",
    "\n",
    "            x=torch.from_numpy(np.stack(imgs)) \n",
    "        else:\n",
    "            imgs=[]\n",
    "            for img in x:\n",
    "                #sample=torch.squeeze(sample)\n",
    "                #print(sample.shape)\n",
    "                imgs.append(data_transforms(img.repeat(3, 1, 1)))\n",
    "\n",
    "            x=torch.from_numpy(np.stack(imgs)) \n",
    "            \n",
    "        print(x.shape)\n",
    "        x = model_ft(x)\n",
    "        return F.softmax(x).data.cpu().numpy()\n",
    "\n",
    "    # Get predictions\n",
    "    preds = np.zeros((N, 10))\n",
    "\n",
    "    for i in range(N//batch_size):\n",
    "        noise = torch.randn(batch_size, 100).to(device)\n",
    "        fake_audio = gen(noise)\n",
    "        preds[i*batch_size:i*batch_size + batch_size] = get_pred(fake_audio)\n",
    "    #kl-div \n",
    "    split_scores = []\n",
    "\n",
    "    for k in range(1):\n",
    "        part = preds[k * (N // splits): (k+1) * (N // splits), :]\n",
    "        py = np.mean(part, axis=0)\n",
    "        scores = []\n",
    "        for i in range(part.shape[0]):\n",
    "            pyx = part[i, :]\n",
    "            scores.append(entropy(pyx, py))\n",
    "        split_scores.append(np.exp(np.mean(scores)))\n",
    "\n",
    "    return np.mean(split_scores)"
   ]
  },
  {
   "cell_type": "code",
   "execution_count": 57,
   "id": "731c4490",
   "metadata": {},
   "outputs": [
    {
     "name": "stdout",
     "output_type": "stream",
     "text": [
      "torch.Size([32, 3, 299, 299])\n"
     ]
    },
    {
     "name": "stderr",
     "output_type": "stream",
     "text": [
      "C:\\Users\\nguye\\anaconda3\\envs\\envDL\\lib\\site-packages\\ipykernel_launcher.py:61: UserWarning: Implicit dimension choice for softmax has been deprecated. Change the call to include dim=X as an argument.\n"
     ]
    },
    {
     "name": "stdout",
     "output_type": "stream",
     "text": [
      "torch.Size([32, 3, 299, 299])\n",
      "torch.Size([32, 3, 299, 299])\n"
     ]
    },
    {
     "data": {
      "text/plain": [
       "(3.722979653279528, 0.0)"
      ]
     },
     "execution_count": 57,
     "metadata": {},
     "output_type": "execute_result"
    }
   ],
   "source": [
    "#generator and discriminator\n",
    "from utils.wavegan import *\n",
    "wave_gen = WaveGenerator(d=64, c=1 ,inplace=True).to(device)\n",
    "wave_gen.eval()\n",
    "wave_gen.load_state_dict(torch.load('./data/gen_180_66970.pt',map_location=device))\n",
    "inception_score(wave_gen,100,wavegan=True)"
   ]
  },
  {
   "cell_type": "code",
   "execution_count": 58,
   "id": "72e62a37",
   "metadata": {},
   "outputs": [
    {
     "name": "stdout",
     "output_type": "stream",
     "text": [
      "torch.Size([32, 3, 299, 299])\n"
     ]
    },
    {
     "name": "stderr",
     "output_type": "stream",
     "text": [
      "C:\\Users\\nguye\\anaconda3\\envs\\envDL\\lib\\site-packages\\ipykernel_launcher.py:61: UserWarning: Implicit dimension choice for softmax has been deprecated. Change the call to include dim=X as an argument.\n"
     ]
    },
    {
     "name": "stdout",
     "output_type": "stream",
     "text": [
      "torch.Size([32, 3, 299, 299])\n",
      "torch.Size([32, 3, 299, 299])\n"
     ]
    },
    {
     "data": {
      "text/plain": [
       "(1.56496532937406, 0.0)"
      ]
     },
     "execution_count": 58,
     "metadata": {},
     "output_type": "execute_result"
    }
   ],
   "source": [
    "#generator and discriminator\n",
    "from utils.specgan import *\n",
    "specgan = SpecGenerator(d=64, c=1 ,inplace=True).to(device)\n",
    "specgan.eval()\n",
    "specgan.load_state_dict(torch.load('./data/gen_96_71780.pt',map_location=device))\n",
    "inception_score(specgan,100,wavegan=False)"
   ]
  }
 ],
 "metadata": {
  "kernelspec": {
   "display_name": "Python 3",
   "language": "python",
   "name": "python3"
  },
  "language_info": {
   "codemirror_mode": {
    "name": "ipython",
    "version": 3
   },
   "file_extension": ".py",
   "mimetype": "text/x-python",
   "name": "python",
   "nbconvert_exporter": "python",
   "pygments_lexer": "ipython3",
   "version": "3.6.13"
  }
 },
 "nbformat": 4,
 "nbformat_minor": 5
}
