{
 "cells": [
  {
   "cell_type": "code",
   "execution_count": 30,
   "id": "e9b1ec0b",
   "metadata": {},
   "outputs": [
    {
     "name": "stdout",
     "output_type": "stream",
     "text": [
      "WaveGenerator(\n",
      "  (dense1): Linear(in_features=100, out_features=16384, bias=True)\n",
      "  (main): Sequential(\n",
      "    (0): ReLU(inplace=True)\n",
      "    (1): ConvTranspose1d(1024, 512, kernel_size=(25,), stride=(4,), padding=(11,))\n",
      "    (2): ReLU(inplace=True)\n",
      "    (3): ConvTranspose1d(512, 256, kernel_size=(25,), stride=(4,), padding=(11,))\n",
      "    (4): ReLU(inplace=True)\n",
      "    (5): ConvTranspose1d(256, 128, kernel_size=(25,), stride=(4,), padding=(11,))\n",
      "    (6): ReLU(inplace=True)\n",
      "    (7): ConvTranspose1d(128, 64, kernel_size=(25,), stride=(4,), padding=(11,))\n",
      "    (8): ReLU(inplace=True)\n",
      "    (9): ConvTranspose1d(64, 1, kernel_size=(25,), stride=(4,), padding=(11,))\n",
      "    (10): Tanh()\n",
      "  )\n",
      ")\n"
     ]
    }
   ],
   "source": [
    "import torch\n",
    "import torch.nn as nn\n",
    "import numpy as np\n",
    "\n",
    "# Prints the number of trainable params in a model.\n",
    "def get_number_parameters(model):\n",
    "    model_parameters = filter(lambda p: p.requires_grad, model.parameters())\n",
    "    params = sum([np.prod(p.size()) for p in model_parameters])\n",
    "    print(params,'trainable parameters')\n",
    "\n",
    "\n",
    "\n",
    "# initialize weights with mean=0 and std= .02\n",
    "def initialize_weights(m,debug=False):\n",
    "    classname = m.__class__.__name__\n",
    "    if classname.find('Conv') != -1 or classname.find('Linear') != -1 or classname.find('BatchNorm') != -1:\n",
    "        nn.init.normal_(m.weight.data, 0.0, 0.02)\n",
    "        nn.init.constant_(m.bias.data, 0)\n",
    "        if debug:\n",
    "            print('init',classname)\n",
    "    else:\n",
    "        if debug:\n",
    "            print('noinit',classname)\n",
    "        \n",
    "# See page 15 of the paper https://openreview.net/pdf?id=ByMVTsR5KQ        \n",
    "class WaveGenerator(nn.Module):\n",
    "    def __init__(self,d=64, c=1 ,ngpu=1):\n",
    "        super(WaveGenerator, self).__init__()\n",
    "        self.ngpu = ngpu\n",
    "        self.d=d # model size\n",
    "        self.c=c # = 1 in the paper\n",
    "        self.dense1= nn.Linear(100, 256*self.d)\n",
    "        self.padding=11\n",
    "        self.main = nn.Sequential(\n",
    "            # input is dense(Z), going into a convolution\n",
    "            nn.ReLU(True), #out (n,16,16d)\n",
    "            nn.ConvTranspose1d( 16*self.d, self.d * 8, 25, 4, self.padding, bias=True), # (25,16d,4d) | (n,64,8d)\n",
    "            nn.ReLU(True), #no batch norm\n",
    "         \n",
    "            nn.ConvTranspose1d(self.d * 8, self.d * 4, 25, 4, self.padding, bias=True),#(25, 8d, 4d)| (n, 256, 4d)\n",
    "            nn.ReLU(True),\n",
    "        \n",
    "            nn.ConvTranspose1d( self.d * 4,self.d * 2, 25, 4, self.padding, bias=True),#(25, 4d, 2d) | (n, 1024, 2d)\n",
    "            nn.ReLU(True),\n",
    "      \n",
    "            nn.ConvTranspose1d( self.d * 2, self.d, 25, 4, self.padding, bias=True), #(25, 2d, d) | (n, 4096, d)\n",
    "            nn.ReLU(True),\n",
    "       \n",
    "            nn.ConvTranspose1d( self.d, self.c, 25, 4, self.padding, bias=True),#(25, d, c) | (n, 16384, c)\n",
    "            nn.Tanh() # as suggested       \n",
    "        )\n",
    "\n",
    "    def forward(self, x):\n",
    "        #input (n,100)\n",
    "        x=self.dense1(x) # output (n,256*d)\n",
    "        x=torch.reshape(x, (-1,16*self.d,16)) # output (n,16,16d)\n",
    "        \n",
    "        return self.main(x) #(n, 16384, c), c=1\n",
    "\n",
    "device = torch.device(\"cuda:0\" if torch.cuda.is_available() else \"cpu\")\n",
    "# Create the generator\n",
    "waveG = WaveGenerator().to(device)\n",
    "#initialize wights\n",
    "waveG.apply(initialize_weights)\n",
    "print(waveG)"
   ]
  },
  {
   "cell_type": "code",
   "execution_count": 33,
   "id": "acc237a4",
   "metadata": {},
   "outputs": [
    {
     "name": "stdout",
     "output_type": "stream",
     "text": [
      "torch.Size([8, 1, 16043])\n"
     ]
    }
   ],
   "source": [
    "def testing():\n",
    "    N, in_channels, H, W = 8, 3, 64, 64\n",
    "    noise_dim = 100\n",
    "    #x = torch.randn((N, in_channels, H, W))\n",
    "    #disc = Discriminator(in_channels, 8)\n",
    "    #assert disc(x).shape == (N, 1, 1, 1), \"Discriminator test failed\"\n",
    "    gen = WaveGenerator(d=64,c=1)\n",
    "    z = torch.randn((N, 100))\n",
    "    print(gen(z).shape)\n",
    "    \n",
    "testing()"
   ]
  },
  {
   "cell_type": "code",
   "execution_count": 32,
   "id": "9bda69fb",
   "metadata": {},
   "outputs": [
    {
     "name": "stdout",
     "output_type": "stream",
     "text": [
      "19065345 trainable parameters\n"
     ]
    }
   ],
   "source": [
    "import numpy as np\n",
    "def get_number_parameters(model):\n",
    "    model_parameters = filter(lambda p: p.requires_grad, model.parameters())\n",
    "    params = sum([np.prod(p.size()) for p in model_parameters])\n",
    "    print(params,'trainable parameters')\n",
    "get_number_parameters(gen)"
   ]
  }
 ],
 "metadata": {
  "kernelspec": {
   "display_name": "Python 3",
   "language": "python",
   "name": "python3"
  },
  "language_info": {
   "codemirror_mode": {
    "name": "ipython",
    "version": 3
   },
   "file_extension": ".py",
   "mimetype": "text/x-python",
   "name": "python",
   "nbconvert_exporter": "python",
   "pygments_lexer": "ipython3",
   "version": "3.6.13"
  }
 },
 "nbformat": 4,
 "nbformat_minor": 5
}
