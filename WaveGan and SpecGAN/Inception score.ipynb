{
 "cells": [
  {
   "cell_type": "code",
   "execution_count": 4,
   "id": "f5631e39",
   "metadata": {},
   "outputs": [],
   "source": [
    "import torch\n",
    "import torch.nn as nn\n",
    "from utils.utils import *\n",
    "import numpy as np\n",
    "import torchvision\n",
    "from torchvision import datasets, models, transforms\n",
    "from torch.utils.data import DataLoader\n",
    "import matplotlib.pyplot as plt\n",
    "import time\n",
    "import os\n",
    "import copy\n",
    "from utils.utils import *\n",
    "plt.ion()   # interactive mode\n",
    "device = 'cpu'"
   ]
  },
  {
   "cell_type": "markdown",
   "id": "738f423e",
   "metadata": {},
   "source": [
    "### Computing the inception score with the KL-divergence formula"
   ]
  },
  {
   "cell_type": "code",
   "execution_count": 13,
   "id": "61a2364a",
   "metadata": {},
   "outputs": [],
   "source": [
    "import torch\n",
    "from torch import nn\n",
    "from torch.autograd import Variable\n",
    "from torch.nn import functional as F\n",
    "import torch.utils.data\n",
    "\n",
    "from torchvision.models.inception import inception_v3\n",
    "\n",
    "import numpy as np\n",
    "from scipy.stats import entropy\n",
    "\n",
    "def inception_score(gen,N, wavegan,cuda=True, batch_size=32):\n",
    "    \n",
    "    N=(N//32)*32\n",
    "    \n",
    "    # loading the trained inceptionv3 model\n",
    "    model_ft = models.inception_v3(pretrained=True)\n",
    "    model_ft.aux_logits=False\n",
    "    num_ftrs = model_ft.fc.in_features\n",
    "\n",
    "    model_ft.fc = nn.Linear(num_ftrs, 10)\n",
    "\n",
    "    model_ft = model_ft.to(device)\n",
    "    # loading the trained inceptionv3 model weights\n",
    "    model_ft.load_state_dict(torch.load('./data/INCEPTIONV3.pt',map_location=device))\n",
    "    model_ft.eval()\n",
    "\n",
    "    # same transf as in the inceptionv3 training\n",
    "    data_transforms = torchvision.transforms.Compose([\n",
    "        torchvision.transforms.ToPILImage(),\n",
    "        torchvision.transforms.Resize(299),\n",
    "        torchvision.transforms.ToTensor(),\n",
    "        torchvision.transforms.Normalize([0.485, 0.456, 0.406], [0.229, 0.224, 0.225])\n",
    "    ])\n",
    "\n",
    "    # get inceptionv3 output from the generated clips X\n",
    "    def get_pred(x):\n",
    "        \n",
    "        #if wavegan get the spectrogram images\n",
    "        if wavegan:\n",
    "            imgs=[]\n",
    "            for sample in x:\n",
    "                imgs.append(data_transforms(transform_spectrogram(sample).detach().repeat(3, 1, 1))) #add 3 channels\n",
    "\n",
    "            x=torch.from_numpy(np.stack(imgs)) \n",
    "        else:\n",
    "            imgs=[]\n",
    "            for img in x:\n",
    "                imgs.append(data_transforms(img.repeat(3, 1, 1))) #add 3 channels\n",
    "\n",
    "            x=torch.from_numpy(np.stack(imgs)) \n",
    "            \n",
    "        \n",
    "        x = model_ft(x)\n",
    "        return F.softmax(x).data.cpu().numpy() # inception output\n",
    "\n",
    "    # Get predictions\n",
    "    preds = np.zeros((N, 10))\n",
    "\n",
    "    \n",
    "    # get the inceptionv3 output for eqch batch\n",
    "    for i in range(N//batch_size):\n",
    "        print('step',i+1,'/',N//batch_size)\n",
    "        noise = torch.randn(batch_size, 100).to(device)\n",
    "        fake_audio = gen(noise)\n",
    "        preds[i*batch_size:i*batch_size + batch_size] = get_pred(fake_audio)\n",
    "        \n",
    "        \n",
    "    #kl-div, compute score\n",
    "    split_scores = []\n",
    "\n",
    "    \n",
    "    part = preds[0: N, :]\n",
    "    py = np.mean(part, axis=0)\n",
    "    scores = []\n",
    "    for i in range(part.shape[0]):\n",
    "        pyx = part[i, :]\n",
    "        scores.append(entropy(pyx, py))\n",
    "    split_scores.append(np.exp(np.mean(scores)))\n",
    "\n",
    "    return np.mean(split_scores)"
   ]
  },
  {
   "cell_type": "markdown",
   "id": "9454b0ad",
   "metadata": {},
   "source": [
    "### Inception score for WaveGAN"
   ]
  },
  {
   "cell_type": "code",
   "execution_count": 18,
   "id": "731c4490",
   "metadata": {},
   "outputs": [
    {
     "name": "stdout",
     "output_type": "stream",
     "text": [
      "step 1 / 31\n"
     ]
    },
    {
     "name": "stderr",
     "output_type": "stream",
     "text": [
      "C:\\Users\\nguye\\anaconda3\\envs\\envDL\\lib\\site-packages\\ipykernel_launcher.py:56: UserWarning: Implicit dimension choice for softmax has been deprecated. Change the call to include dim=X as an argument.\n"
     ]
    },
    {
     "name": "stdout",
     "output_type": "stream",
     "text": [
      "step 2 / 31\n",
      "step 3 / 31\n",
      "step 4 / 31\n",
      "step 5 / 31\n",
      "step 6 / 31\n",
      "step 7 / 31\n",
      "step 8 / 31\n",
      "step 9 / 31\n",
      "step 10 / 31\n",
      "step 11 / 31\n",
      "step 12 / 31\n",
      "step 13 / 31\n",
      "step 14 / 31\n",
      "step 15 / 31\n",
      "step 16 / 31\n",
      "step 17 / 31\n",
      "step 18 / 31\n",
      "step 19 / 31\n",
      "step 20 / 31\n",
      "step 21 / 31\n",
      "step 22 / 31\n",
      "step 23 / 31\n",
      "step 24 / 31\n",
      "step 25 / 31\n",
      "step 26 / 31\n",
      "step 27 / 31\n",
      "step 28 / 31\n",
      "step 29 / 31\n",
      "step 30 / 31\n",
      "step 31 / 31\n"
     ]
    },
    {
     "data": {
      "text/plain": [
       "3.768076757610188"
      ]
     },
     "execution_count": 18,
     "metadata": {},
     "output_type": "execute_result"
    }
   ],
   "source": [
    "from utils.wavegan import *\n",
    "\n",
    "#loading the WaveGan generator\n",
    "wave_gen = WaveGenerator(d=64, c=1 ,inplace=True).to(device)\n",
    "wave_gen.eval()\n",
    "wave_gen.load_state_dict(torch.load('./data/gen_180_66970.pt',map_location=device))\n",
    "\n",
    "#inception score\n",
    "inception_score(wave_gen,1000,wavegan=True)"
   ]
  },
  {
   "cell_type": "markdown",
   "id": "5028abd9",
   "metadata": {},
   "source": [
    "### Inception score for SpecGAN"
   ]
  },
  {
   "cell_type": "code",
   "execution_count": 17,
   "id": "72e62a37",
   "metadata": {},
   "outputs": [
    {
     "name": "stdout",
     "output_type": "stream",
     "text": [
      "step 1 / 31\n"
     ]
    },
    {
     "name": "stderr",
     "output_type": "stream",
     "text": [
      "C:\\Users\\nguye\\anaconda3\\envs\\envDL\\lib\\site-packages\\ipykernel_launcher.py:56: UserWarning: Implicit dimension choice for softmax has been deprecated. Change the call to include dim=X as an argument.\n"
     ]
    },
    {
     "name": "stdout",
     "output_type": "stream",
     "text": [
      "step 2 / 31\n",
      "step 3 / 31\n",
      "step 4 / 31\n",
      "step 5 / 31\n",
      "step 6 / 31\n",
      "step 7 / 31\n",
      "step 8 / 31\n",
      "step 9 / 31\n",
      "step 10 / 31\n",
      "step 11 / 31\n",
      "step 12 / 31\n",
      "step 13 / 31\n",
      "step 14 / 31\n",
      "step 15 / 31\n",
      "step 16 / 31\n",
      "step 17 / 31\n",
      "step 18 / 31\n",
      "step 19 / 31\n",
      "step 20 / 31\n",
      "step 21 / 31\n",
      "step 22 / 31\n",
      "step 23 / 31\n",
      "step 24 / 31\n",
      "step 25 / 31\n",
      "step 26 / 31\n",
      "step 27 / 31\n",
      "step 28 / 31\n",
      "step 29 / 31\n",
      "step 30 / 31\n",
      "step 31 / 31\n"
     ]
    },
    {
     "data": {
      "text/plain": [
       "1.483256607675118"
      ]
     },
     "execution_count": 17,
     "metadata": {},
     "output_type": "execute_result"
    }
   ],
   "source": [
    "from utils.specgan import *\n",
    "\n",
    "#loading the SpecGAN generator\n",
    "specgan = SpecGenerator(d=64, c=1 ,inplace=True).to(device)\n",
    "specgan.eval()\n",
    "specgan.load_state_dict(torch.load('./data/gen_96_71780.pt',map_location=device))\n",
    "\n",
    "#inception score\n",
    "inception_score(specgan,1000,wavegan=False)"
   ]
  }
 ],
 "metadata": {
  "kernelspec": {
   "display_name": "Python 3",
   "language": "python",
   "name": "python3"
  },
  "language_info": {
   "codemirror_mode": {
    "name": "ipython",
    "version": 3
   },
   "file_extension": ".py",
   "mimetype": "text/x-python",
   "name": "python",
   "nbconvert_exporter": "python",
   "pygments_lexer": "ipython3",
   "version": "3.6.13"
  }
 },
 "nbformat": 4,
 "nbformat_minor": 5
}
