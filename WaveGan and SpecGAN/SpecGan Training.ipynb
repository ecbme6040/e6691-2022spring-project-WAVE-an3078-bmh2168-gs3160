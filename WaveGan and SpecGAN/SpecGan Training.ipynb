{
 "cells": [
  {
   "cell_type": "code",
   "execution_count": 1,
   "id": "3061e0a9",
   "metadata": {},
   "outputs": [
    {
     "data": {
      "text/plain": [
       "'cuda'"
      ]
     },
     "execution_count": 1,
     "metadata": {},
     "output_type": "execute_result"
    }
   ],
   "source": [
    "from utils.utils import *\n",
    "from utils.specgan import *\n",
    "import torch\n",
    "import torch.nn as nn\n",
    "import torch.optim as optim\n",
    "from torch.utils.data import DataLoader,Dataset\n",
    "from tqdm import tqdm\n",
    "import pickle\n",
    "\n",
    "device = \"cuda\" if torch.cuda.is_available() else \"cpu\"\n",
    "device"
   ]
  },
  {
   "cell_type": "markdown",
   "id": "4c3bfb25",
   "metadata": {},
   "source": [
    "# Setup"
   ]
  },
  {
   "cell_type": "code",
   "execution_count": 7,
   "id": "2a997cee",
   "metadata": {},
   "outputs": [
    {
     "name": "stderr",
     "output_type": "stream",
     "text": [
      "loading sample 2550: 100%|█████████████████████████████████████████████████████| 2552/2552 [00:54<00:00, 46.71sample/s]\n"
     ]
    },
    {
     "name": "stdout",
     "output_type": "stream",
     "text": [
      "2552\n"
     ]
    }
   ],
   "source": [
    "GPU=True\n",
    "if not GPU:\n",
    "    device= 'cpu'\n",
    "# Data Params\n",
    "DATA_PATH='./data/drums'\n",
    "AUDIO_LENGTH = 16384 #[16384, 32768, 65536] \n",
    "SAMPLING_RATE = 16000\n",
    "NORMALIZE_AUDIO = False \n",
    "CHANNELS = 1\n",
    "\n",
    "#Model params\n",
    "LATENT_NOISE_DIM = 100\n",
    "MODEL_CAPACITY=64\n",
    "LAMBDA_GP = 10\n",
    "\n",
    "#Training params\n",
    "TRAIN_DISCRIM = 5 # how many times to train the discriminator for one generator step\n",
    "EPOCHS = 500\n",
    "BATCH_SIZE=26\n",
    "LR_GEN = 1e-4\n",
    "LR_DISC = 1e-4 # alternative is bigger lr instead of high TRAIN_DISCRIM\n",
    "BETA1 = 0.5\n",
    "BETA2 = 0.9\n",
    "\n",
    "\n",
    "# Dataset and Dataloader\n",
    "\n",
    "#load into vram\n",
    "#train_set = AudioDataset_ram(DATA_PATH,sample_rate=SAMPLING_RATE,number_samples=AUDIO_LENGTH,extension='wav',std=NORMALIZE_AUDIO,device=device,spectrogram=True)\n",
    "\n",
    "#load into cpu ram\n",
    "train_set = AudioDataset_ram(DATA_PATH,sample_rate=SAMPLING_RATE,number_samples=AUDIO_LENGTH,extension='wav',std=NORMALIZE_AUDIO,device='cpu',spectrogram=True)\n",
    "\n",
    "print(train_set.__len__())\n"
   ]
  },
  {
   "cell_type": "code",
   "execution_count": 8,
   "id": "08fe9cae",
   "metadata": {
    "scrolled": true
   },
   "outputs": [
    {
     "name": "stdout",
     "output_type": "stream",
     "text": [
      "0.7270409535254246\n",
      "16.963365074677686\n"
     ]
    }
   ],
   "source": [
    "print(train_set.mel_mean)\n",
    "print(train_set.mel_std)"
   ]
  },
  {
   "cell_type": "markdown",
   "id": "9ae6b042",
   "metadata": {},
   "source": [
    "# loading the model"
   ]
  },
  {
   "cell_type": "code",
   "execution_count": 6,
   "id": "ee9715f2",
   "metadata": {},
   "outputs": [],
   "source": [
    "train_loader = DataLoader(dataset=train_set,\n",
    "                          batch_size=BATCH_SIZE,\n",
    "                          shuffle=True,\n",
    "                          num_workers=4)\n",
    "#generator and discriminator\n",
    "spec_gen = SpecGenerator(d=MODEL_CAPACITY, c=CHANNELS ,inplace=True).to(device)\n",
    "spec_disc = SpecDiscriminator(d=MODEL_CAPACITY, c=CHANNELS ,inplace=True).to(device)\n",
    "\n",
    "#random weights init\n",
    "initialize_weights(spec_gen)\n",
    "initialize_weights(spec_disc)\n",
    "\n",
    "spec_gen.train()\n",
    "spec_disc.train()\n",
    "\n",
    "#Adam optim for both generator iand discriminator\n",
    "optimizer_gen = optim.Adam(spec_gen.parameters(), lr=LR_GEN, betas=(BETA1, BETA2))\n",
    "optimizer_disc = optim.Adam(spec_disc.parameters(), lr=LR_DISC, betas=(BETA1, BETA2))\n",
    "\n",
    "start=25636\n",
    "epoch_start=220\n",
    "if start>0:\n",
    "    spec_disc.load_state_dict(torch.load('./save/specdisc/spec_'+str(epoch_start)+'_'+str(start)+'.pt'))\n",
    "    spec_gen.load_state_dict(torch.load('./save/specgen/gen_'+str(epoch_start)+'_'+str(start)+'.pt'))"
   ]
  },
  {
   "cell_type": "markdown",
   "id": "009a5cd9",
   "metadata": {},
   "source": [
    "# Training loop"
   ]
  },
  {
   "cell_type": "code",
   "execution_count": null,
   "id": "3ce01325",
   "metadata": {},
   "outputs": [],
   "source": [
    "#training\n",
    "import pickle\n",
    "step = start+1 # for restart from saved weights\n",
    "epoch_start+=1\n",
    "hist=[]\n",
    "for epoch in range(epoch_start,EPOCHS):\n",
    "    with tqdm(train_loader, unit=\"batch\") as tepoch: \n",
    "        for batch_id, real_audio in enumerate(tepoch):  \n",
    "            tepoch.set_description(f\"Epoch {epoch}\")\n",
    "            real_audio = real_audio.to(device)\n",
    "            \n",
    "            #Train Discriminator \n",
    "            for train_step in range(TRAIN_DISCRIM):\n",
    "                noise = torch.randn(real_audio.shape[0], LATENT_NOISE_DIM).to(device)\n",
    "                #print(noise.shape)\n",
    "                fake_audio = spec_gen(noise)\n",
    "                disc_real = spec_disc(real_audio).reshape(-1)\n",
    "                disc_fake = spec_disc(fake_audio).reshape(-1)\n",
    "                loss_disc = wasserstein_loss(spec_disc, real_audio, fake_audio,device,LAMBDA = LAMBDA_GP,spec_gan=True)\n",
    "                spec_disc.zero_grad()\n",
    "                loss_disc.backward(retain_graph=True)\n",
    "                optimizer_disc.step()\n",
    "\n",
    "            # Train the generator!\n",
    "            all_wasserstein = spec_disc(fake_audio).reshape(-1)\n",
    "            loss = -torch.mean(all_wasserstein)\n",
    "            spec_gen.zero_grad()\n",
    "            loss.backward()\n",
    "            optimizer_gen.step()\n",
    "            step += 1\n",
    "            # Print progress, save stats, and save model\n",
    "            hist.append([loss.item(),loss_disc.item()])\n",
    "            if batch_id % 5 == 0 and batch_id > 0:\n",
    "                tepoch.set_postfix(gen_loss=loss.item(), disc_loss=loss_disc.item())\n",
    "\n",
    "    if epoch % 5 == 0:\n",
    "        with open('./save/spechist/hist_'+str(step)+'_'+str(epoch)+'_'+str(batch_id)+'.pkl', 'wb') as f:\n",
    "            pickle.dump(hist, f)\n",
    "        torch.save(spec_gen.state_dict(), './save/specgen/gen_'+str(epoch)+'_'+str(step)+'.pt')\n",
    "        torch.save(spec_disc.state_dict(), './save/specdisc/spec_'+str(epoch)+'_'+str(step)+'.pt')\n",
    "        with torch.no_grad():\n",
    "            fake = spec_gen(noise)\n",
    "            torch.save(fake, './save/specfake/fake_'+str(epoch)+'_'+str(step)+'.pt')\n",
    "        if step>30000:\n",
    "            break\n"
   ]
  }
 ],
 "metadata": {
  "kernelspec": {
   "display_name": "Python 3",
   "language": "python",
   "name": "python3"
  },
  "language_info": {
   "codemirror_mode": {
    "name": "ipython",
    "version": 3
   },
   "file_extension": ".py",
   "mimetype": "text/x-python",
   "name": "python",
   "nbconvert_exporter": "python",
   "pygments_lexer": "ipython3",
   "version": "3.6.13"
  }
 },
 "nbformat": 4,
 "nbformat_minor": 5
}
