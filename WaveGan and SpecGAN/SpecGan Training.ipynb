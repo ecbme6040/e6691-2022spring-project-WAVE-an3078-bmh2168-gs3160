{
 "cells": [
  {
   "cell_type": "code",
   "execution_count": 2,
   "id": "3061e0a9",
   "metadata": {},
   "outputs": [
    {
     "data": {
      "text/plain": [
       "'cuda'"
      ]
     },
     "execution_count": 2,
     "metadata": {},
     "output_type": "execute_result"
    }
   ],
   "source": [
    "from utils.utils import *\n",
    "from utils.specgan import *\n",
    "import torch\n",
    "import torch.nn as nn\n",
    "import torch.optim as optim\n",
    "from torch.utils.data import DataLoader,Dataset\n",
    "from tqdm import tqdm\n",
    "import pickle\n",
    "\n",
    "device = \"cuda\" if torch.cuda.is_available() else \"cpu\"\n",
    "device"
   ]
  },
  {
   "cell_type": "code",
   "execution_count": 3,
   "id": "2a997cee",
   "metadata": {},
   "outputs": [
    {
     "name": "stderr",
     "output_type": "stream",
     "text": [
      "loading sample 1420: 100%|█████████████████████████████████████████████████████| 1426/1426 [01:10<00:00, 20.23sample/s]\n"
     ]
    },
    {
     "name": "stdout",
     "output_type": "stream",
     "text": [
      "1426\n"
     ]
    }
   ],
   "source": [
    "GPU=True\n",
    "if not GPU:\n",
    "    device= 'cpu'\n",
    "# Data Params\n",
    "DATA_PATH='./data/piano'\n",
    "AUDIO_LENGTH = 16384 #[16384, 32768, 65536] \n",
    "SAMPLING_RATE = 16000\n",
    "NORMALIZE_AUDIO = False \n",
    "CHANNELS = 1\n",
    "\n",
    "#Model params\n",
    "LATENT_NOISE_DIM = 100\n",
    "MODEL_CAPACITY=64\n",
    "LAMBDA_GP = 10\n",
    "\n",
    "#Training params\n",
    "TRAIN_DISCRIM = 5 # how many times to train the discriminator for one generator step\n",
    "EPOCHS = 500\n",
    "BATCH_SIZE=26\n",
    "LR_GEN = 1e-4\n",
    "LR_DISC = 1e-4 # alternative is bigger lr instead of high TRAIN_DISCRIM\n",
    "BETA1 = 0.5\n",
    "BETA2 = 0.9\n",
    "\n",
    "\n",
    "# Dataset and Dataloader\n",
    "\n",
    "#load into vram\n",
    "#train_set = AudioDataset_ram(DATA_PATH,sample_rate=SAMPLING_RATE,number_samples=AUDIO_LENGTH,extension='wav',std=NORMALIZE_AUDIO,device=device,spectrogram=True)\n",
    "\n",
    "#load into cpu ram\n",
    "train_set = AudioDataset_ram(DATA_PATH,sample_rate=SAMPLING_RATE,number_samples=AUDIO_LENGTH,extension='wav',std=NORMALIZE_AUDIO,device='cpu',spectrogram=True)\n",
    "\n",
    "print(train_set.__len__())\n"
   ]
  },
  {
   "cell_type": "code",
   "execution_count": 4,
   "id": "08fe9cae",
   "metadata": {
    "scrolled": true
   },
   "outputs": [
    {
     "name": "stdout",
     "output_type": "stream",
     "text": [
      "0.22374595802679448\n",
      "2.228093965844948\n"
     ]
    }
   ],
   "source": [
    "print(train_set.mel_mean)\n",
    "print(train_set.mel_std)"
   ]
  },
  {
   "cell_type": "code",
   "execution_count": 4,
   "id": "54aca745",
   "metadata": {},
   "outputs": [],
   "source": [
    "import os\n",
    "if not os.path.exists('./save/specgen'):\n",
    "    os.makedirs('./save/specgen')\n",
    "    \n",
    "if not os.path.exists('./save/specdisc'):\n",
    "    os.makedirs('./save/specdisc')\n",
    "    \n",
    "if not os.path.exists('./save/specfake'):\n",
    "    os.makedirs('./save/specfake')\n",
    "    \n",
    "if not os.path.exists('./save/spechist'):\n",
    "    os.makedirs('./save/spechist')"
   ]
  },
  {
   "cell_type": "code",
   "execution_count": 6,
   "id": "ee9715f2",
   "metadata": {},
   "outputs": [],
   "source": [
    "train_loader = DataLoader(dataset=train_set,\n",
    "                          batch_size=BATCH_SIZE,\n",
    "                          shuffle=True,\n",
    "                          num_workers=4)\n",
    "#generator and discriminator\n",
    "spec_gen = SpecGenerator(d=MODEL_CAPACITY, c=CHANNELS ,inplace=True).to(device)\n",
    "spec_disc = SpecDiscriminator(d=MODEL_CAPACITY, c=CHANNELS ,inplace=True).to(device)\n",
    "\n",
    "#random weights init\n",
    "initialize_weights(spec_gen)\n",
    "initialize_weights(spec_disc)\n",
    "\n",
    "spec_gen.train()\n",
    "spec_disc.train()\n",
    "\n",
    "#Adam optim for both generator iand discriminator\n",
    "optimizer_gen = optim.Adam(spec_gen.parameters(), lr=LR_GEN, betas=(BETA1, BETA2))\n",
    "optimizer_disc = optim.Adam(spec_disc.parameters(), lr=LR_DISC, betas=(BETA1, BETA2))\n",
    "\n",
    "start=25636\n",
    "epoch_start=220\n",
    "if start>0:\n",
    "    spec_disc.load_state_dict(torch.load('./save/specdisc/spec_'+str(epoch_start)+'_'+str(start)+'.pt'))\n",
    "    spec_gen.load_state_dict(torch.load('./save/specgen/gen_'+str(epoch_start)+'_'+str(start)+'.pt'))"
   ]
  },
  {
   "cell_type": "code",
   "execution_count": 7,
   "id": "b55a3574",
   "metadata": {},
   "outputs": [
    {
     "name": "stderr",
     "output_type": "stream",
     "text": [
      "Epoch 221: 100%|█████████████████████████████████| 116/116 [02:30<00:00,  1.30s/batch, disc_loss=-2.78, gen_loss=-.603]\n",
      "Epoch 222: 100%|████████████████████████████████| 116/116 [02:23<00:00,  1.24s/batch, disc_loss=-1.67, gen_loss=-.0963]\n",
      "Epoch 223: 100%|███████████████████████████████████| 116/116 [02:24<00:00,  1.24s/batch, disc_loss=-2.2, gen_loss=1.09]\n",
      "Epoch 224: 100%|████████████████████████████████| 116/116 [02:24<00:00,  1.24s/batch, disc_loss=-.884, gen_loss=-.0713]\n",
      "Epoch 225: 100%|██████████████████████████████████| 116/116 [02:23<00:00,  1.24s/batch, disc_loss=-2.66, gen_loss=1.32]\n",
      "Epoch 226: 100%|██████████████████████████████████| 116/116 [02:23<00:00,  1.24s/batch, disc_loss=-2.29, gen_loss=1.16]\n",
      "Epoch 227: 100%|██████████████████████████████████| 116/116 [02:24<00:00,  1.24s/batch, disc_loss=-1.83, gen_loss=1.81]\n",
      "Epoch 228: 100%|███████████████████████████████████| 116/116 [02:24<00:00,  1.24s/batch, disc_loss=-2.37, gen_loss=1.4]\n",
      "Epoch 229: 100%|█████████████████████████████████| 116/116 [02:24<00:00,  1.24s/batch, disc_loss=-2.82, gen_loss=0.725]\n",
      "Epoch 230: 100%|████████████████████████████████| 116/116 [02:24<00:00,  1.24s/batch, disc_loss=-1.53, gen_loss=-.0822]\n",
      "Epoch 231: 100%|█████████████████████████████████| 116/116 [02:24<00:00,  1.24s/batch, disc_loss=-.572, gen_loss=-.125]\n",
      "Epoch 232: 100%|██████████████████████████████████| 116/116 [02:24<00:00,  1.24s/batch, disc_loss=-3.6, gen_loss=-.383]\n",
      "Epoch 233: 100%|█████████████████████████████████| 116/116 [02:24<00:00,  1.24s/batch, disc_loss=-3.69, gen_loss=0.572]\n",
      "Epoch 234: 100%|█████████████████████████████████| 116/116 [02:24<00:00,  1.24s/batch, disc_loss=-2.13, gen_loss=-.519]\n",
      "Epoch 235: 100%|█████████████████████████████████| 116/116 [02:24<00:00,  1.25s/batch, disc_loss=-1.27, gen_loss=0.275]\n",
      "Epoch 236: 100%|███████████████████████████████████| 116/116 [02:24<00:00,  1.24s/batch, disc_loss=-1.4, gen_loss=0.61]\n",
      "Epoch 237: 100%|█████████████████████████████████| 116/116 [02:24<00:00,  1.24s/batch, disc_loss=-1.58, gen_loss=0.781]\n",
      "Epoch 238: 100%|████████████████████████████████████| 116/116 [02:24<00:00,  1.25s/batch, disc_loss=-1, gen_loss=-.207]\n",
      "Epoch 239: 100%|█████████████████████████████████| 116/116 [02:24<00:00,  1.25s/batch, disc_loss=-1.09, gen_loss=0.119]\n",
      "Epoch 240: 100%|██████████████████████████████████| 116/116 [02:24<00:00,  1.24s/batch, disc_loss=-1.65, gen_loss=1.76]\n",
      "Epoch 241: 100%|█████████████████████████████████| 116/116 [02:24<00:00,  1.25s/batch, disc_loss=-1.67, gen_loss=-.972]\n",
      "Epoch 242: 100%|████████████████████████████████| 116/116 [02:24<00:00,  1.25s/batch, disc_loss=-2.77, gen_loss=-.0705]\n",
      "Epoch 243: 100%|██████████████████████████████████| 116/116 [02:24<00:00,  1.25s/batch, disc_loss=-1.65, gen_loss=0.46]\n",
      "Epoch 244: 100%|█████████████████████████████████| 116/116 [02:24<00:00,  1.25s/batch, disc_loss=-1.22, gen_loss=0.994]\n",
      "Epoch 245: 100%|█████████████████████████████████| 116/116 [02:24<00:00,  1.25s/batch, disc_loss=-1.62, gen_loss=-.499]\n",
      "Epoch 246: 100%|█████████████████████████████████| 116/116 [02:24<00:00,  1.25s/batch, disc_loss=-2.33, gen_loss=0.413]\n",
      "Epoch 247: 100%|█████████████████████████████████| 116/116 [02:24<00:00,  1.25s/batch, disc_loss=-3.05, gen_loss=-.508]\n",
      "Epoch 248: 100%|██████████████████████████████████| 116/116 [02:24<00:00,  1.25s/batch, disc_loss=-4.28, gen_loss=1.13]\n",
      "Epoch 249: 100%|████████████████████████████████| 116/116 [02:24<00:00,  1.25s/batch, disc_loss=-2.06, gen_loss=-.0777]\n",
      "Epoch 250:  82%|███████████████████████████▊      | 95/116 [02:02<00:26,  1.28s/batch, disc_loss=-2.24, gen_loss=-.509]\n"
     ]
    },
    {
     "ename": "RuntimeError",
     "evalue": "CUDA error: an illegal memory access was encountered\nCUDA kernel errors might be asynchronously reported at some other API call,so the stacktrace below might be incorrect.\nFor debugging consider passing CUDA_LAUNCH_BLOCKING=1.",
     "output_type": "error",
     "traceback": [
      "\u001b[1;31m---------------------------------------------------------------------------\u001b[0m",
      "\u001b[1;31mRuntimeError\u001b[0m                              Traceback (most recent call last)",
      "\u001b[1;32m<ipython-input-7-afea353a9a86>\u001b[0m in \u001b[0;36m<module>\u001b[1;34m\u001b[0m\n\u001b[0;32m     30\u001b[0m             \u001b[0mstep\u001b[0m \u001b[1;33m+=\u001b[0m \u001b[1;36m1\u001b[0m\u001b[1;33m\u001b[0m\u001b[1;33m\u001b[0m\u001b[0m\n\u001b[0;32m     31\u001b[0m             \u001b[1;31m# Print progress, save stats, and save model\u001b[0m\u001b[1;33m\u001b[0m\u001b[1;33m\u001b[0m\u001b[1;33m\u001b[0m\u001b[0m\n\u001b[1;32m---> 32\u001b[1;33m             \u001b[0mhist\u001b[0m\u001b[1;33m.\u001b[0m\u001b[0mappend\u001b[0m\u001b[1;33m(\u001b[0m\u001b[1;33m[\u001b[0m\u001b[0mloss\u001b[0m\u001b[1;33m.\u001b[0m\u001b[0mitem\u001b[0m\u001b[1;33m(\u001b[0m\u001b[1;33m)\u001b[0m\u001b[1;33m,\u001b[0m\u001b[0mloss_disc\u001b[0m\u001b[1;33m.\u001b[0m\u001b[0mitem\u001b[0m\u001b[1;33m(\u001b[0m\u001b[1;33m)\u001b[0m\u001b[1;33m]\u001b[0m\u001b[1;33m)\u001b[0m\u001b[1;33m\u001b[0m\u001b[1;33m\u001b[0m\u001b[0m\n\u001b[0m\u001b[0;32m     33\u001b[0m             \u001b[1;32mif\u001b[0m \u001b[0mbatch_id\u001b[0m \u001b[1;33m%\u001b[0m \u001b[1;36m5\u001b[0m \u001b[1;33m==\u001b[0m \u001b[1;36m0\u001b[0m \u001b[1;32mand\u001b[0m \u001b[0mbatch_id\u001b[0m \u001b[1;33m>\u001b[0m \u001b[1;36m0\u001b[0m\u001b[1;33m:\u001b[0m\u001b[1;33m\u001b[0m\u001b[1;33m\u001b[0m\u001b[0m\n\u001b[0;32m     34\u001b[0m                 \u001b[0mtepoch\u001b[0m\u001b[1;33m.\u001b[0m\u001b[0mset_postfix\u001b[0m\u001b[1;33m(\u001b[0m\u001b[0mgen_loss\u001b[0m\u001b[1;33m=\u001b[0m\u001b[0mloss\u001b[0m\u001b[1;33m.\u001b[0m\u001b[0mitem\u001b[0m\u001b[1;33m(\u001b[0m\u001b[1;33m)\u001b[0m\u001b[1;33m,\u001b[0m \u001b[0mdisc_loss\u001b[0m\u001b[1;33m=\u001b[0m\u001b[0mloss_disc\u001b[0m\u001b[1;33m.\u001b[0m\u001b[0mitem\u001b[0m\u001b[1;33m(\u001b[0m\u001b[1;33m)\u001b[0m\u001b[1;33m)\u001b[0m\u001b[1;33m\u001b[0m\u001b[1;33m\u001b[0m\u001b[0m\n",
      "\u001b[1;31mRuntimeError\u001b[0m: CUDA error: an illegal memory access was encountered\nCUDA kernel errors might be asynchronously reported at some other API call,so the stacktrace below might be incorrect.\nFor debugging consider passing CUDA_LAUNCH_BLOCKING=1."
     ]
    }
   ],
   "source": [
    "#training\n",
    "import pickle\n",
    "step = start+1 # for restart from saved weights\n",
    "epoch_start+=1\n",
    "hist=[]\n",
    "for epoch in range(epoch_start,EPOCHS):\n",
    "    with tqdm(train_loader, unit=\"batch\") as tepoch: \n",
    "        for batch_id, real_audio in enumerate(tepoch):  \n",
    "            tepoch.set_description(f\"Epoch {epoch}\")\n",
    "            real_audio = real_audio.to(device)\n",
    "            \n",
    "            #Train Discriminator \n",
    "            for train_step in range(TRAIN_DISCRIM):\n",
    "                noise = torch.randn(real_audio.shape[0], LATENT_NOISE_DIM).to(device)\n",
    "                #print(noise.shape)\n",
    "                fake_audio = spec_gen(noise)\n",
    "                disc_real = spec_disc(real_audio).reshape(-1)\n",
    "                disc_fake = spec_disc(fake_audio).reshape(-1)\n",
    "                loss_disc = wasserstein_loss(spec_disc, real_audio, fake_audio,device,LAMBDA = LAMBDA_GP,spec_gan=True)\n",
    "                spec_disc.zero_grad()\n",
    "                loss_disc.backward(retain_graph=True)\n",
    "                optimizer_disc.step()\n",
    "\n",
    "            # Train the generator!\n",
    "            all_wasserstein = spec_disc(fake_audio).reshape(-1)\n",
    "            loss = -torch.mean(all_wasserstein)\n",
    "            spec_gen.zero_grad()\n",
    "            loss.backward()\n",
    "            optimizer_gen.step()\n",
    "            step += 1\n",
    "            # Print progress, save stats, and save model\n",
    "            hist.append([loss.item(),loss_disc.item()])\n",
    "            if batch_id % 5 == 0 and batch_id > 0:\n",
    "                tepoch.set_postfix(gen_loss=loss.item(), disc_loss=loss_disc.item())\n",
    "\n",
    "    if epoch % 5 == 0:\n",
    "        with open('./save/spechist/hist_'+str(step)+'_'+str(epoch)+'_'+str(batch_id)+'.pkl', 'wb') as f:\n",
    "            pickle.dump(hist, f)\n",
    "        torch.save(spec_gen.state_dict(), './save/specgen/gen_'+str(epoch)+'_'+str(step)+'.pt')\n",
    "        torch.save(spec_disc.state_dict(), './save/specdisc/spec_'+str(epoch)+'_'+str(step)+'.pt')\n",
    "        with torch.no_grad():\n",
    "            fake = spec_gen(noise)\n",
    "            torch.save(fake, './save/specfake/fake_'+str(epoch)+'_'+str(step)+'.pt')\n",
    "        if step>30000:\n",
    "            break\n",
    "\n",
    "\n",
    "            \n"
   ]
  }
 ],
 "metadata": {
  "kernelspec": {
   "display_name": "Python 3",
   "language": "python",
   "name": "python3"
  },
  "language_info": {
   "codemirror_mode": {
    "name": "ipython",
    "version": 3
   },
   "file_extension": ".py",
   "mimetype": "text/x-python",
   "name": "python",
   "nbconvert_exporter": "python",
   "pygments_lexer": "ipython3",
   "version": "3.6.13"
  }
 },
 "nbformat": 4,
 "nbformat_minor": 5
}
