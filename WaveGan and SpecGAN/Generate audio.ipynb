{
 "cells": [
  {
   "cell_type": "code",
   "execution_count": 1,
   "id": "390e7263",
   "metadata": {},
   "outputs": [],
   "source": [
    "%matplotlib inline\n",
    "from utils.generate_show_audio import *"
   ]
  },
  {
   "cell_type": "markdown",
   "id": "f852b61f",
   "metadata": {},
   "source": [
    "### Loads generated Wavegan batches + preview"
   ]
  },
  {
   "cell_type": "code",
   "execution_count": null,
   "id": "e79fa038",
   "metadata": {},
   "outputs": [],
   "source": [
    "'''\n",
    "    Listen to generated clips from wavegan model.\n",
    "    model_path: string, model path\n",
    "    batch_size: number of generated clips\n",
    "    plot:boolean\n",
    "    d: model capacity\n",
    "    c: channels (mono by default)\n",
    "    device: cpu or cuda\n",
    "    '''\n",
    "listen_wavegan('./data/WaveGAN/piano/generator.pt',batch_size=5,plot=True)"
   ]
  },
  {
   "cell_type": "markdown",
   "id": "b86a029c",
   "metadata": {},
   "source": [
    "### Loads generated specgan batches + preview"
   ]
  },
  {
   "cell_type": "code",
   "execution_count": null,
   "id": "d3b8554e",
   "metadata": {
    "scrolled": true
   },
   "outputs": [],
   "source": [
    " '''\n",
    "    Listen to generated clips from specgan model.\n",
    "    model_path: string, model path\n",
    "    batch_size: number of generated clips\n",
    "    dataset: 'sc09', 'drum' or 'piano', sets different scalings that are dataset specific\n",
    "    denoise: has to be a positive float. Is there is a lot of noise, it changes the rescaling and can help\n",
    "    plot:boolean\n",
    "    d: model capacity\n",
    "    c: channels (mono by default)\n",
    "    device: cpu \n",
    "    '''\n",
    "    \n",
    "listen_specgan('./data/SpecGAN/sc09/generator.pt',dataset='sc09',batch_size=20,plot=False)\n"
   ]
  }
 ],
 "metadata": {
  "kernelspec": {
   "display_name": "Python 3",
   "language": "python",
   "name": "python3"
  },
  "language_info": {
   "codemirror_mode": {
    "name": "ipython",
    "version": 3
   },
   "file_extension": ".py",
   "mimetype": "text/x-python",
   "name": "python",
   "nbconvert_exporter": "python",
   "pygments_lexer": "ipython3",
   "version": "3.6.13"
  }
 },
 "nbformat": 4,
 "nbformat_minor": 5
}
