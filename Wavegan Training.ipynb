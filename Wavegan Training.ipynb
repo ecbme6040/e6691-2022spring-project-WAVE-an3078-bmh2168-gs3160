{
 "cells": [
  {
   "cell_type": "code",
   "execution_count": 3,
   "id": "d502813f",
   "metadata": {},
   "outputs": [],
   "source": [
    "#C:\\Users\\nguye\\Downloads\\timit\\data\\lisa\\data\\timit\\raw\\TIMIT\\TRAIN\n",
    "\n",
    "%reload_ext autoreload\n",
    "%autoreload 2\n",
    "\n",
    "from utils.utils import *\n",
    "from utils.wavegan import *\n",
    "import torch\n",
    "import torch.nn as nn\n",
    "import torch.optim as optim\n",
    "from torch.utils.data import DataLoader,Dataset\n",
    "from tqdm import tqdm\n",
    "import pickle\n",
    "\n",
    "device = \"cuda\" if torch.cuda.is_available() else \"cpu\""
   ]
  },
  {
   "cell_type": "code",
   "execution_count": 4,
   "id": "c15e9651",
   "metadata": {},
   "outputs": [
    {
     "data": {
      "text/plain": [
       "'cuda'"
      ]
     },
     "execution_count": 4,
     "metadata": {},
     "output_type": "execute_result"
    }
   ],
   "source": [
    "device"
   ]
  },
  {
   "cell_type": "code",
   "execution_count": 5,
   "id": "aa44fd33",
   "metadata": {},
   "outputs": [
    {
     "name": "stderr",
     "output_type": "stream",
     "text": [
      "loading sample 1420: 100%|█████████████████████████████████████████████████████| 1426/1426 [00:45<00:00, 31.32sample/s]\n"
     ]
    },
    {
     "name": "stdout",
     "output_type": "stream",
     "text": [
      "1426\n"
     ]
    }
   ],
   "source": [
    "GPU=True\n",
    "if not GPU:\n",
    "    device= 'cpu'\n",
    "# Data Params\n",
    "DATA_PATH='./data/piano'\n",
    "AUDIO_LENGTH = 16384 #[16384, 32768, 65536] \n",
    "SAMPLING_RATE = 16000\n",
    "NORMALIZE_AUDIO = False \n",
    "CHANNELS = 1\n",
    "\n",
    "#Model params\n",
    "LATENT_NOISE_DIM = 100\n",
    "MODEL_CAPACITY=64\n",
    "LAMBDA_GP = 10\n",
    "\n",
    "#Training params\n",
    "TRAIN_DISCRIM = 5 # how many times to train the discriminator for one generator step\n",
    "EPOCHS = 500\n",
    "BATCH_SIZE=32\n",
    "LR_GEN = 1e-4\n",
    "LR_DISC = 1e-4 # alternative is bigger lr instead of high TRAIN_DISCRIM\n",
    "BETA1 = 0.5\n",
    "BETA2 = 0.9\n",
    "\n",
    "\n",
    "# Dataset and Dataloader\n",
    "\n",
    "#load into vram\n",
    "#train_set = AudioDataset_ram(DATA_PATH,sample_rate=SAMPLING_RATE,number_samples=AUDIO_LENGTH,extension='wav',std=NORMALIZE_AUDIO,device=device)\n",
    "\n",
    "#load into cpu ram\n",
    "train_set = AudioDataset_ram(DATA_PATH,sample_rate=SAMPLING_RATE,number_samples=AUDIO_LENGTH,extension='wav',std=NORMALIZE_AUDIO,device='cpu')\n",
    "\n",
    "#load at training from disk\n",
    "#train_set = AudioDataset(DATA_PATH,sample_rate=SAMPLING_RATE,number_samples=AUDIO_LENGTH,extension='wav',std=NORMALIZE_AUDIO,start_only=False)\n",
    "\n",
    "print(train_set.__len__())\n"
   ]
  },
  {
   "cell_type": "code",
   "execution_count": 6,
   "id": "00340fec",
   "metadata": {},
   "outputs": [],
   "source": [
    "train_loader = DataLoader(dataset=train_set,\n",
    "                          batch_size=BATCH_SIZE,\n",
    "                          shuffle=True,\n",
    "                          num_workers=4) #if loading into vram set num_workers to 0\n",
    "#generator and discriminator\n",
    "wave_gen = WaveGenerator(d=MODEL_CAPACITY, c=CHANNELS ,inplace=True).to(device)\n",
    "wave_disc = WaveDiscriminator(d=MODEL_CAPACITY, c=CHANNELS ,inplace=True).to(device)\n",
    "\n",
    "#random weights init\n",
    "initialize_weights(wave_gen)\n",
    "initialize_weights(wave_disc)\n",
    "wave_gen\n",
    "wave_disc\n",
    "wave_gen.train()\n",
    "wave_disc.train()\n",
    "\n",
    "#Adam optim for both generator iand discriminator\n",
    "optimizer_gen = optim.Adam(wave_gen.parameters(), lr=LR_GEN, betas=(BETA1, BETA2))\n",
    "optimizer_disc = optim.Adam(wave_disc.parameters(), lr=LR_DISC, betas=(BETA1, BETA2))\n",
    "\n",
    "start=18091\n",
    "epoch_start=401\n",
    "if start>0:\n",
    "    wave_disc.load_state_dict(torch.load('./save/wavedisc/wave_'+str(epoch_start)+'_'+str(start)+'.pt'))\n",
    "    wave_gen.load_state_dict(torch.load('./save/wavegen/gen_'+str(epoch_start)+'_'+str(start)+'.pt'))"
   ]
  },
  {
   "cell_type": "code",
   "execution_count": null,
   "id": "f9446a2f",
   "metadata": {},
   "outputs": [
    {
     "name": "stderr",
     "output_type": "stream",
     "text": [
      "Epoch 402: 100%|████████████████████████████████████| 45/45 [01:20<00:00,  1.80s/batch, disc_loss=-2.45, gen_loss=0.62]\n",
      "Epoch 403: 100%|███████████████████████████████████| 45/45 [01:19<00:00,  1.76s/batch, disc_loss=-2.69, gen_loss=0.143]\n",
      "Epoch 404: 100%|███████████████████████████████████| 45/45 [01:19<00:00,  1.77s/batch, disc_loss=-3.39, gen_loss=0.104]\n",
      "Epoch 405: 100%|████████████████████████████████████| 45/45 [01:19<00:00,  1.77s/batch, disc_loss=-2.27, gen_loss=1.24]\n",
      "  0%|                                                                                        | 0/45 [00:00<?, ?batch/s]"
     ]
    }
   ],
   "source": [
    "#training\n",
    "import pickle\n",
    "step = start+1 # for restart from saved weights\n",
    "epoch_start+=1\n",
    "hist=[]\n",
    "for epoch in range(epoch_start,EPOCHS):\n",
    "    with tqdm(train_loader, unit=\"batch\") as tepoch: \n",
    "        for batch_id, real_audio in enumerate(tepoch):  \n",
    "            tepoch.set_description(f\"Epoch {epoch}\")\n",
    "            real_audio = real_audio.to(device)\n",
    "            \n",
    "            #Train Discriminator \n",
    "            for train_step in range(TRAIN_DISCRIM):\n",
    "                noise = torch.randn(real_audio.shape[0], LATENT_NOISE_DIM).to(device)\n",
    "                #print(noise.shape)\n",
    "                fake_audio = wave_gen(noise)\n",
    "                disc_real = wave_disc(real_audio).reshape(-1)\n",
    "                disc_fake = wave_disc(fake_audio).reshape(-1)\n",
    "                loss_disc = wasserstein_loss(wave_disc, real_audio, fake_audio,device,LAMBDA = LAMBDA_GP)\n",
    "                wave_disc.zero_grad()\n",
    "                loss_disc.backward(retain_graph=True)\n",
    "                optimizer_disc.step()\n",
    "\n",
    "            # Train the generator!\n",
    "            all_wasserstein = wave_disc(fake_audio).reshape(-1)\n",
    "            loss = -torch.mean(all_wasserstein)\n",
    "            wave_gen.zero_grad()\n",
    "            loss.backward()\n",
    "            optimizer_gen.step()\n",
    "            step += 1\n",
    "            # Print progress, save stats, and save model\n",
    "            hist.append([loss.item(),loss_disc.item()])\n",
    "            if batch_id % 5 == 0 and batch_id > 0:\n",
    "                tepoch.set_postfix(gen_loss=loss.item(), disc_loss=loss_disc.item())\n",
    "\n",
    "    #if batch_id % 100 == 0 and batch_id > 0:\n",
    "    with open('./save/wavehist/hist_'+str(step)+'_'+str(epoch)+'_'+str(batch_id)+'.pkl', 'wb') as f:\n",
    "        pickle.dump(hist, f)\n",
    "    torch.save(wave_gen.state_dict(), './save/wavegen/gen_'+str(epoch)+'_'+str(step)+'.pt')\n",
    "    torch.save(wave_disc.state_dict(), './save/wavedisc/wave_'+str(epoch)+'_'+str(step)+'.pt')\n",
    "    with torch.no_grad():\n",
    "        fake = wave_gen(noise)\n",
    "        torch.save(fake, './save/wavefake/fake_'+str(epoch)+'_'+str(step)+'.pt')\n"
   ]
  }
 ],
 "metadata": {
  "kernelspec": {
   "display_name": "Python 3",
   "language": "python",
   "name": "python3"
  },
  "language_info": {
   "codemirror_mode": {
    "name": "ipython",
    "version": 3
   },
   "file_extension": ".py",
   "mimetype": "text/x-python",
   "name": "python",
   "nbconvert_exporter": "python",
   "pygments_lexer": "ipython3",
   "version": "3.6.13"
  }
 },
 "nbformat": 4,
 "nbformat_minor": 5
}
