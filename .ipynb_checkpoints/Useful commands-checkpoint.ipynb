{
 "cells": [
  {
   "cell_type": "markdown",
   "id": "c313e6ef",
   "metadata": {},
   "source": [
    "##### jupyter notebook setup \n",
    "\n",
    "jupyter notebook --generate-config\n",
    "\n",
    "nano ~/.jupyter/jupyter_notebook_config.py\n",
    "\n",
    "c = get_config()\n",
    "c.NotebookApp.ip='*'\n",
    "c.NotebookApp.open_browser = False\n",
    "c.NotebookApp.port =9999      # or other port number"
   ]
  },
  {
   "cell_type": "markdown",
   "id": "b50a8096",
   "metadata": {},
   "source": [
    "\n",
    "##### extract with progress bar\n",
    "pv nsynth-train.jsonwav.tar.gz | tar -xz"
   ]
  },
  {
   "cell_type": "markdown",
   "id": "12f06ebb",
   "metadata": {},
   "source": [
    "# screen"
   ]
  },
  {
   "cell_type": "markdown",
   "id": "ab042a09",
   "metadata": {},
   "source": [
    "After connecting via ssh type screen\n",
    "\n",
    "Run your command\n",
    "\n",
    "Press ctrl + a, ctrl + d \n",
    "\n",
    "Now you can disconnect from ssh and your code will continue to run.\n",
    "\n",
    "You can reconnect to the screen via screen -r"
   ]
  }
 ],
 "metadata": {
  "kernelspec": {
   "display_name": "Python 3",
   "language": "python",
   "name": "python3"
  },
  "language_info": {
   "codemirror_mode": {
    "name": "ipython",
    "version": 3
   },
   "file_extension": ".py",
   "mimetype": "text/x-python",
   "name": "python",
   "nbconvert_exporter": "python",
   "pygments_lexer": "ipython3",
   "version": "3.6.13"
  }
 },
 "nbformat": 4,
 "nbformat_minor": 5
}
