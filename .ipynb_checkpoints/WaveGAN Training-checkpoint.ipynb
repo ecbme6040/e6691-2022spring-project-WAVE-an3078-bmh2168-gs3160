{
 "cells": [
  {
   "cell_type": "code",
   "execution_count": 1,
   "id": "625ab402",
   "metadata": {},
   "outputs": [],
   "source": [
    "%reload_ext autoreload\n",
    "%autoreload 2\n",
    "\n",
    "from utils.utils import *\n",
    "from utils.wavegan import *\n",
    "import torch\n",
    "import torch.nn as nn\n",
    "import torch.optim as optim\n",
    "from torch.utils.data import DataLoader,Dataset\n",
    "from tqdm import tqdm\n",
    "import pickle\n",
    "\n",
    "device = \"cuda\" if torch.cuda.is_available() else \"cpu\"\n",
    "\n",
    "GPU=True\n",
    "if not GPU:\n",
    "    device= 'cpu'\n",
    "# Data Params\n",
    "DATA_PATH='./eecs-audio-data/nsynth/nsynth-train/audio'\n",
    "AUDIO_LENGTH = 16384 #[16384, 32768, 65536] \n",
    "SAMPLING_RATE = 16000\n",
    "NORMALIZE_AUDIO = False \n",
    "CHANNELS = 1\n",
    "\n",
    "#Model params\n",
    "LATENT_NOISE_DIM = 100\n",
    "MODEL_CAPACITY=64\n",
    "LAMBDA_GP = 10\n",
    "\n",
    "#Training params\n",
    "TRAIN_DISCRIM = 5 # how many times to train the discriminator for one generator step\n",
    "EPOCHS = 500\n",
    "BATCH_SIZE=64\n",
    "LR_GEN = 1e-4\n",
    "LR_DISC = 1e-4 # alternative is bigger lr instead of high TRAIN_DISCRIM\n",
    "BETA1 = 0.5\n",
    "BETA2 = 0.9"
   ]
  },
  {
   "cell_type": "code",
   "execution_count": 2,
   "id": "48a543a5",
   "metadata": {},
   "outputs": [
    {
     "name": "stdout",
     "output_type": "stream",
     "text": [
      "272185\n"
     ]
    },
    {
     "name": "stderr",
     "output_type": "stream",
     "text": [
      "/opt/conda/lib/python3.7/site-packages/torch/utils/data/dataloader.py:490: UserWarning: This DataLoader will create 6 worker processes in total. Our suggested max number of worker in current system is 4, which is smaller than what this DataLoader is going to create. Please be aware that excessive worker creation might get DataLoader running slow or even freeze, lower the worker number to avoid potential slowness/freeze if necessary.\n",
      "  cpuset_checked))\n"
     ]
    }
   ],
   "source": [
    "# Dataset and Dataloader\n",
    "train_set = AudioDataset(DATA_PATH,sample_rate=SAMPLING_RATE,number_samples=AUDIO_LENGTH,extension='wav',std=NORMALIZE_AUDIO)\n",
    "print(train_set.__len__())\n",
    "train_loader = DataLoader(dataset=train_set,\n",
    "                          batch_size=BATCH_SIZE,\n",
    "                          shuffle=True,\n",
    "                          num_workers=6)"
   ]
  },
  {
   "cell_type": "code",
   "execution_count": 3,
   "id": "70d94e8b",
   "metadata": {},
   "outputs": [],
   "source": [
    "#generator and discriminator\n",
    "wave_gen = WaveGenerator(d=MODEL_CAPACITY, c=CHANNELS ,inplace=True).to(device)\n",
    "wave_disc = WaveDiscriminator(d=MODEL_CAPACITY, c=CHANNELS ,inplace=True).to(device)\n",
    "\n",
    "#random weights init\n",
    "initialize_weights(wave_gen)\n",
    "initialize_weights(wave_disc)\n",
    "wave_gen\n",
    "wave_disc\n",
    "wave_gen.train()\n",
    "wave_disc.train()\n",
    "\n",
    "#Adam optim for both generator iand discriminator\n",
    "optimizer_gen = optim.Adam(wave_gen.parameters(), lr=LR_GEN, betas=(BETA1, BETA2))\n",
    "optimizer_disc = optim.Adam(wave_disc.parameters(), lr=LR_DISC, betas=(BETA1, BETA2))"
   ]
  },
  {
   "cell_type": "code",
   "execution_count": null,
   "id": "363c2a8d",
   "metadata": {
    "scrolled": true
   },
   "outputs": [
    {
     "name": "stderr",
     "output_type": "stream",
     "text": [
      "Epoch 0: 100%|█████████████████████████████████████| 94/94 [02:34<00:00,  1.64s/batch, disc_loss=-6.34, gen_loss=-17.1]\n",
      "Epoch 1: 100%|█████████████████████████████████████| 94/94 [02:31<00:00,  1.61s/batch, disc_loss=-9.01, gen_loss=-17.2]\n",
      "Epoch 2: 100%|█████████████████████████████████████| 94/94 [02:33<00:00,  1.63s/batch, disc_loss=-7.43, gen_loss=-5.67]\n",
      "Epoch 3: 100%|█████████████████████████████████████| 94/94 [02:33<00:00,  1.63s/batch, disc_loss=-7.67, gen_loss=-4.14]\n",
      "Epoch 4: 100%|████████████████████████████████████████| 94/94 [02:33<00:00,  1.63s/batch, disc_loss=-9.6, gen_loss=5.4]\n",
      "Epoch 5: 100%|█████████████████████████████████████| 94/94 [02:33<00:00,  1.63s/batch, disc_loss=-7.49, gen_loss=-6.21]\n",
      "Epoch 6: 100%|█████████████████████████████████████| 94/94 [02:33<00:00,  1.64s/batch, disc_loss=-5.84, gen_loss=0.804]\n",
      "Epoch 7: 100%|█████████████████████████████████████| 94/94 [02:34<00:00,  1.64s/batch, disc_loss=-4.89, gen_loss=-.241]\n",
      "Epoch 8: 100%|█████████████████████████████████████| 94/94 [02:34<00:00,  1.64s/batch, disc_loss=-4.25, gen_loss=-8.02]\n",
      "Epoch 9: 100%|█████████████████████████████████████| 94/94 [02:34<00:00,  1.65s/batch, disc_loss=-10.4, gen_loss=-5.74]\n",
      "Epoch 10: 100%|████████████████████████████████████| 94/94 [02:34<00:00,  1.65s/batch, disc_loss=-4.07, gen_loss=-1.78]\n",
      "Epoch 11: 100%|█████████████████████████████████████| 94/94 [02:35<00:00,  1.65s/batch, disc_loss=-7.51, gen_loss=-7.2]\n",
      "Epoch 12: 100%|████████████████████████████████████| 94/94 [02:35<00:00,  1.65s/batch, disc_loss=-3.39, gen_loss=-6.12]\n",
      "Epoch 13:  26%|█████████▍                           | 24/94 [00:49<01:42,  1.46s/batch, disc_loss=-4.32, gen_loss=2.75]"
     ]
    }
   ],
   "source": [
    "#training\n",
    "import pickle\n",
    "step = 0\n",
    "hist=[]\n",
    "for epoch in range(EPOCHS):\n",
    "    with tqdm(train_loader, unit=\"batch\") as tepoch: \n",
    "        for batch_id, real_audio in enumerate(tepoch):  \n",
    "            tepoch.set_description(f\"Epoch {epoch}\")\n",
    "            real_audio = real_audio.to(device)\n",
    "            \n",
    "            #Train Discriminator \n",
    "            for train_step in range(TRAIN_DISCRIM):\n",
    "                noise = torch.randn(real_audio.shape[0], LATENT_NOISE_DIM).to(device)\n",
    "                #print(noise.shape)\n",
    "                fake_audio = wave_gen(noise)\n",
    "                disc_real = wave_disc(real_audio).reshape(-1)\n",
    "                disc_fake = wave_disc(fake_audio).reshape(-1)\n",
    "                loss_disc = wasserstein_loss(wave_disc, real_audio, fake_audio,device,LAMBDA = LAMBDA_GP)\n",
    "                wave_disc.zero_grad()\n",
    "                loss_disc.backward(retain_graph=True)\n",
    "                optimizer_disc.step()\n",
    "\n",
    "            # Train the generator!\n",
    "            all_wasserstein = wave_disc(fake_audio).reshape(-1)\n",
    "            loss = -torch.mean(all_wasserstein)\n",
    "            wave_gen.zero_grad()\n",
    "            loss.backward()\n",
    "            optimizer_gen.step()\n",
    "\n",
    "            # Print progress, save stats, and save model\n",
    "            hist.append([loss.item(),loss_disc.item()])\n",
    "            if batch_id % 10 == 0 and batch_id > 0:\n",
    "                tepoch.set_postfix(gen_loss=loss.item(), disc_loss=loss_disc.item())\n",
    "            \n",
    "        torch.save(wave_gen.state_dict(), './save/wavegen/gen_'+str(step)+'_'+str(epoch)+'_'+str(batch_id)+'.pt')\n",
    "        torch.save(wave_disc.state_dict(), './save/wavedisc/wave_'+str(step)+'_'+str(epoch)+'_'+str(batch_id)+'.pt')\n",
    "        with torch.no_grad():\n",
    "            fake = wave_gen(noise)\n",
    "            torch.save(fake, './save/wavefake/fake_'+str(step)+'_'+str(epoch)+'_'+str(batch_id)+'.pt')\n",
    "                    \n",
    "\n",
    "            step += 1"
   ]
  }
 ],
 "metadata": {
  "kernelspec": {
   "display_name": "Python 3",
   "language": "python",
   "name": "python3"
  },
  "language_info": {
   "codemirror_mode": {
    "name": "ipython",
    "version": 3
   },
   "file_extension": ".py",
   "mimetype": "text/x-python",
   "name": "python",
   "nbconvert_exporter": "python",
   "pygments_lexer": "ipython3",
   "version": "3.7.12"
  }
 },
 "nbformat": 4,
 "nbformat_minor": 5
}
